{
 "cells": [
  {
   "cell_type": "code",
   "execution_count": 1,
   "id": "aef61f56",
   "metadata": {},
   "outputs": [],
   "source": [
    "# Import dependencies\n",
    "from sklearn.model_selection import train_test_split\n",
    "from sklearn.preprocessing import StandardScaler, OneHotEncoder\n",
    "import pandas as pd\n",
    "import tensorflow as tf"
   ]
  },
  {
   "cell_type": "code",
   "execution_count": null,
   "id": "388b59d8",
   "metadata": {},
   "outputs": [],
   "source": [
    "# Read in data\n",
    "df = pd.read_csv('file_path/cleaned_data.csv')\n",
    "df.head(10)"
   ]
  },
  {
   "cell_type": "code",
   "execution_count": null,
   "id": "69ad247d",
   "metadata": {},
   "outputs": [],
   "source": [
    "# Determine the number of unique values in each column\n",
    "unique_counts = clean_df.nunique()\n",
    "unique_counts"
   ]
  },
  {
   "cell_type": "code",
   "execution_count": null,
   "id": "f1ae8b13",
   "metadata": {},
   "outputs": [],
   "source": [
    "# Look at any categorical variable value counts for binning\n",
    "clean_df.CATEGORICAL_VARIABLE.value_counts()"
   ]
  },
  {
   "cell_type": "code",
   "execution_count": null,
   "id": "1baf518b",
   "metadata": {},
   "outputs": [],
   "source": [
    "# If necessary, present the data in a chart to see the distribution of counts for each\n",
    "# unique value in the column.\n",
    "\n",
    "# import matplotlib.pyplot as plt\n",
    "\n",
    "# # Create a bar plot of the value counts\n",
    "# clean_df['COLUMN NAME'].value_counts().plot(kind='bar')\n",
    "\n",
    "# # Set the plot title and labels\n",
    "# plt.title('Value Counts of COLUMN NAME')\n",
    "# plt.xlabel('COLUMN NAME')\n",
    "# plt.ylabel('Count')\n",
    "\n",
    "# # Plot the graph\n",
    "# plt.show()"
   ]
  },
  {
   "cell_type": "code",
   "execution_count": null,
   "id": "c806576e",
   "metadata": {},
   "outputs": [],
   "source": [
    "# Ensure the replacement was effective\n",
    "\n",
    "# clean_application_df['APPLICATION_TYPE'].value_counts().plot(kind='bar')\n",
    "\n",
    "# # Set the plot title and labels\n",
    "# plt.title('Value Counts of APPLICATION_TYPE')\n",
    "# plt.xlabel('APPLICATION_TYPE')\n",
    "# plt.ylabel('Count')\n",
    "\n",
    "# # Plot the graph\n",
    "# plt.show()"
   ]
  },
  {
   "cell_type": "code",
   "execution_count": null,
   "id": "2423e375",
   "metadata": {},
   "outputs": [],
   "source": [
    "# Repeat as necessary for each categorical variable that may require binning."
   ]
  },
  {
   "cell_type": "code",
   "execution_count": 3,
   "id": "53d92f7b",
   "metadata": {},
   "outputs": [],
   "source": [
    "# Finalize pre-processing data, depending on what has been done already\n",
    "# and what remains to be done. This could be encoding categorical variables,\n",
    "# dropping unnecessary columns, or scaling data. Remember to split the \n",
    "# data into training and testing sets prior to scaling."
   ]
  },
  {
   "cell_type": "code",
   "execution_count": null,
   "id": "b02b004c",
   "metadata": {},
   "outputs": [],
   "source": [
    "# Split our preprocessed data into our features and target arrays\n",
    "y = encoded_df.winner\n",
    "X = encoded_df.drop(columns = ['winner'])\n",
    "\n",
    "# Split the preprocessed data into a training and testing dataset\n",
    "X_train, X_test, y_train, y_test = train_test_split(X, y, random_state = 78)"
   ]
  },
  {
   "cell_type": "code",
   "execution_count": null,
   "id": "2a6784ad",
   "metadata": {},
   "outputs": [],
   "source": [
    "# Create a StandardScaler instances\n",
    "scaler = StandardScaler()\n",
    "\n",
    "# Fit the StandardScaler\n",
    "X_scaler = scaler.fit(X_train)\n",
    "\n",
    "# Scale the data\n",
    "X_train_scaled = X_scaler.transform(X_train)\n",
    "X_test_scaled = X_scaler.transform(X_test)"
   ]
  },
  {
   "cell_type": "code",
   "execution_count": null,
   "id": "08220881",
   "metadata": {},
   "outputs": [],
   "source": [
    "# Create the model and specify the relevant parameters\n",
    "nn = tf.keras.models.Sequential()\n",
    "\n",
    "# First hidden layer\n",
    "nn.add(tf.keras.layers.Dense(units=50, activation=\"relu\", input_dim=100))\n",
    "\n",
    "# Second hidden layer\n",
    "nn.add(tf.keras.layers.Dense(units=10, activation=\"relu\"))\n",
    "\n",
    "# Output layer\n",
    "nn.add(tf.keras.layers.Dense(units=1, activation=\"sigmoid\"))\n",
    "\n",
    "# Check the structure of the model\n",
    "nn.summary()"
   ]
  },
  {
   "cell_type": "code",
   "execution_count": null,
   "id": "f4f57f69",
   "metadata": {},
   "outputs": [],
   "source": [
    "# Compile the model\n",
    "nn.compile(loss=\"binary_crossentropy\", optimizer=\"adam\", metrics=[\"accuracy\", Precision(), Recall()])"
   ]
  },
  {
   "cell_type": "code",
   "execution_count": null,
   "id": "ec572f0c",
   "metadata": {},
   "outputs": [],
   "source": [
    "# Train the model\n",
    "fit_model = nn.fit(X_train_scaled, y_train, epochs=40)"
   ]
  },
  {
   "cell_type": "code",
   "execution_count": null,
   "id": "8e96523f",
   "metadata": {},
   "outputs": [],
   "source": [
    "# Since we also want to measure precision and recall in order to understand\n",
    "# the types of errors the model makes, we import the metrics class.\n",
    "import sklearn.metrics as metrics\n",
    "\n",
    "# Evaluate the model's performance\n",
    "model_loss, model_accuracy = nn.evaluate(X_test_scaled, y_test, verbose=2)\n",
    "model_precision = metrics.precision_score(y_test, y_pred)\n",
    "model_recall = metrics.recall_score(y_test, y_pred)\n",
    "\n",
    "# Print the results\n",
    "print(f\"Loss: {model_loss}, Accuracy: {model_accuracy}, Precision: {model_precision}, \n",
    "      f\"Recall: {model_recall}\")"
   ]
  }
 ],
 "metadata": {
  "kernelspec": {
   "display_name": "PythonData",
   "language": "python",
   "name": "pythondata"
  },
  "language_info": {
   "codemirror_mode": {
    "name": "ipython",
    "version": 3
   },
   "file_extension": ".py",
   "mimetype": "text/x-python",
   "name": "python",
   "nbconvert_exporter": "python",
   "pygments_lexer": "ipython3",
   "version": "3.7.6"
  }
 },
 "nbformat": 4,
 "nbformat_minor": 5
}
